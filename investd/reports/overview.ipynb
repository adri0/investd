{
 "cells": [
  {
   "cell_type": "code",
   "execution_count": null,
   "id": "27cb5de1",
   "metadata": {},
   "outputs": [],
   "source": [
    "from datetime import datetime\n",
    "\n",
    "import matplotlib.pyplot as plt\n",
    "import pandas as pd\n",
    "import seaborn as sns\n",
    "from IPython.display import Markdown\n",
    "\n",
    "from investd.config import REF_CURRENCY\n",
    "from investd.model import Transaction\n",
    "from investd.portfolio import net_worth_by_asset_type, total_net_worth\n",
    "\n",
    "sns.set_theme()"
   ]
  },
  {
   "cell_type": "markdown",
   "id": "ddaf9f46",
   "metadata": {},
   "source": [
    "# Portfolio overview"
   ]
  },
  {
   "cell_type": "code",
   "execution_count": null,
   "id": "28961f53",
   "metadata": {},
   "outputs": [],
   "source": [
    "now = datetime.now()\n",
    "\n",
    "Markdown(\n",
    "    f\"\"\"\n",
    "Generated date: **{now.strftime(\"%Y-%m-%d\")}** | Reference currency: **{REF_CURRENCY.name}**\n",
    "\"\"\"\n",
    ")"
   ]
  },
  {
   "cell_type": "code",
   "execution_count": null,
   "id": "f8117b0b",
   "metadata": {},
   "outputs": [],
   "source": [
    "df_tx = Transaction.from_csv(\"../../sample_data/persist/tx.csv\")\n",
    "df_tx = df_tx[df_tx[\"timestamp\"] <= now]"
   ]
  },
  {
   "cell_type": "code",
   "execution_count": null,
   "id": "cc6e100c",
   "metadata": {},
   "outputs": [],
   "source": [
    "Markdown(\n",
    "    f\"\"\"\n",
    "### Net Worth \n",
    "\n",
    "{total_net_worth(df_tx):.2f} {REF_CURRENCY}\n",
    "\"\"\"\n",
    ")"
   ]
  },
  {
   "cell_type": "code",
   "execution_count": null,
   "id": "2279262a",
   "metadata": {},
   "outputs": [],
   "source": [
    "pd.DataFrame(\n",
    "    net_worth_by_asset_type(df_tx).apply(lambda val: f\"{val:.2f} {REF_CURRENCY}\")\n",
    ")"
   ]
  },
  {
   "cell_type": "markdown",
   "id": "6a747a3e",
   "metadata": {},
   "source": [
    "### Portfolio evolution"
   ]
  },
  {
   "cell_type": "code",
   "execution_count": null,
   "id": "f8fb4e9d",
   "metadata": {},
   "outputs": [],
   "source": [
    "fig, ax = plt.subplots()\n",
    "fig.autofmt_xdate()\n",
    "\n",
    "cumsum = df_tx[\"amount_ref_currency\"].cumsum()\n",
    "df_cum = pd.DataFrame({\"Total value\": cumsum, \"Time\": df_tx[\"timestamp\"]})\n",
    "\n",
    "fig = sns.lineplot(x=\"Time\", y=\"Total value\", data=df_cum, ax=ax)"
   ]
  }
 ],
 "metadata": {
  "jupytext": {
   "formats": "ipynb,py:percent"
  },
  "kernelspec": {
   "display_name": "Python 3 (ipykernel)",
   "language": "python",
   "name": "python3"
  }
 },
 "nbformat": 4,
 "nbformat_minor": 5
}
